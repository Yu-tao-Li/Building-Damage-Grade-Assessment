{
 "cells": [
  {
   "cell_type": "code",
   "execution_count": 1,
   "id": "0e584a03",
   "metadata": {},
   "outputs": [],
   "source": [
    "%matplotlib inline\n",
    "import pandas as pd\n",
    "import matplotlib.pyplot as plt\n",
    "from sklearn import preprocessing\n",
    "from sklearn.linear_model import LogisticRegression\n",
    "import seaborn as sns\n",
    "plt.rcParams['font.family'] = 'Arial'\n",
    "sns.set(style=\"ticks\")"
   ]
  },
  {
   "cell_type": "code",
   "execution_count": 2,
   "id": "fe3cd1b6",
   "metadata": {},
   "outputs": [
    {
     "data": {
      "text/html": [
       "<div>\n",
       "<style scoped>\n",
       "    .dataframe tbody tr th:only-of-type {\n",
       "        vertical-align: middle;\n",
       "    }\n",
       "\n",
       "    .dataframe tbody tr th {\n",
       "        vertical-align: top;\n",
       "    }\n",
       "\n",
       "    .dataframe thead th {\n",
       "        text-align: right;\n",
       "    }\n",
       "</style>\n",
       "<table border=\"1\" class=\"dataframe\">\n",
       "  <thead>\n",
       "    <tr style=\"text-align: right;\">\n",
       "      <th></th>\n",
       "      <th>Ng1</th>\n",
       "      <th>Ng2</th>\n",
       "      <th>Ng3</th>\n",
       "      <th>Nfl</th>\n",
       "      <th>Na</th>\n",
       "      <th>Pa</th>\n",
       "      <th>Ph</th>\n",
       "      <th>Cls</th>\n",
       "      <th>Tr</th>\n",
       "      <th>Pb</th>\n",
       "      <th>Css</th>\n",
       "      <th>DG</th>\n",
       "    </tr>\n",
       "  </thead>\n",
       "  <tbody>\n",
       "    <tr>\n",
       "      <th>0</th>\n",
       "      <td>30</td>\n",
       "      <td>266</td>\n",
       "      <td>1224</td>\n",
       "      <td>1</td>\n",
       "      <td>25</td>\n",
       "      <td>5</td>\n",
       "      <td>2</td>\n",
       "      <td>t</td>\n",
       "      <td>n</td>\n",
       "      <td>s</td>\n",
       "      <td>mms</td>\n",
       "      <td>1</td>\n",
       "    </tr>\n",
       "    <tr>\n",
       "      <th>1</th>\n",
       "      <td>17</td>\n",
       "      <td>409</td>\n",
       "      <td>12182</td>\n",
       "      <td>2</td>\n",
       "      <td>0</td>\n",
       "      <td>13</td>\n",
       "      <td>7</td>\n",
       "      <td>t</td>\n",
       "      <td>n</td>\n",
       "      <td>s</td>\n",
       "      <td>mms</td>\n",
       "      <td>2</td>\n",
       "    </tr>\n",
       "    <tr>\n",
       "      <th>2</th>\n",
       "      <td>17</td>\n",
       "      <td>716</td>\n",
       "      <td>7056</td>\n",
       "      <td>2</td>\n",
       "      <td>5</td>\n",
       "      <td>12</td>\n",
       "      <td>6</td>\n",
       "      <td>o</td>\n",
       "      <td>q</td>\n",
       "      <td>s</td>\n",
       "      <td>mms</td>\n",
       "      <td>2</td>\n",
       "    </tr>\n",
       "    <tr>\n",
       "      <th>3</th>\n",
       "      <td>4</td>\n",
       "      <td>651</td>\n",
       "      <td>105</td>\n",
       "      <td>2</td>\n",
       "      <td>80</td>\n",
       "      <td>5</td>\n",
       "      <td>4</td>\n",
       "      <td>n</td>\n",
       "      <td>n</td>\n",
       "      <td>s</td>\n",
       "      <td>mms</td>\n",
       "      <td>1</td>\n",
       "    </tr>\n",
       "    <tr>\n",
       "      <th>4</th>\n",
       "      <td>3</td>\n",
       "      <td>1387</td>\n",
       "      <td>3909</td>\n",
       "      <td>5</td>\n",
       "      <td>40</td>\n",
       "      <td>5</td>\n",
       "      <td>10</td>\n",
       "      <td>t</td>\n",
       "      <td>n</td>\n",
       "      <td>o</td>\n",
       "      <td>mmb</td>\n",
       "      <td>1</td>\n",
       "    </tr>\n",
       "    <tr>\n",
       "      <th>...</th>\n",
       "      <td>...</td>\n",
       "      <td>...</td>\n",
       "      <td>...</td>\n",
       "      <td>...</td>\n",
       "      <td>...</td>\n",
       "      <td>...</td>\n",
       "      <td>...</td>\n",
       "      <td>...</td>\n",
       "      <td>...</td>\n",
       "      <td>...</td>\n",
       "      <td>...</td>\n",
       "      <td>...</td>\n",
       "    </tr>\n",
       "    <tr>\n",
       "      <th>214834</th>\n",
       "      <td>10</td>\n",
       "      <td>1007</td>\n",
       "      <td>10666</td>\n",
       "      <td>2</td>\n",
       "      <td>40</td>\n",
       "      <td>5</td>\n",
       "      <td>4</td>\n",
       "      <td>t</td>\n",
       "      <td>n</td>\n",
       "      <td>s</td>\n",
       "      <td>mms</td>\n",
       "      <td>2</td>\n",
       "    </tr>\n",
       "    <tr>\n",
       "      <th>214835</th>\n",
       "      <td>4</td>\n",
       "      <td>1235</td>\n",
       "      <td>4976</td>\n",
       "      <td>3</td>\n",
       "      <td>25</td>\n",
       "      <td>9</td>\n",
       "      <td>7</td>\n",
       "      <td>t</td>\n",
       "      <td>q</td>\n",
       "      <td>s</td>\n",
       "      <td>mms</td>\n",
       "      <td>1</td>\n",
       "    </tr>\n",
       "    <tr>\n",
       "      <th>214836</th>\n",
       "      <td>20</td>\n",
       "      <td>1359</td>\n",
       "      <td>1810</td>\n",
       "      <td>2</td>\n",
       "      <td>5</td>\n",
       "      <td>7</td>\n",
       "      <td>5</td>\n",
       "      <td>t</td>\n",
       "      <td>n</td>\n",
       "      <td>s</td>\n",
       "      <td>mms</td>\n",
       "      <td>1</td>\n",
       "    </tr>\n",
       "    <tr>\n",
       "      <th>214837</th>\n",
       "      <td>17</td>\n",
       "      <td>303</td>\n",
       "      <td>9803</td>\n",
       "      <td>3</td>\n",
       "      <td>55</td>\n",
       "      <td>10</td>\n",
       "      <td>6</td>\n",
       "      <td>t</td>\n",
       "      <td>q</td>\n",
       "      <td>s</td>\n",
       "      <td>mms</td>\n",
       "      <td>2</td>\n",
       "    </tr>\n",
       "    <tr>\n",
       "      <th>214838</th>\n",
       "      <td>8</td>\n",
       "      <td>374</td>\n",
       "      <td>698</td>\n",
       "      <td>2</td>\n",
       "      <td>45</td>\n",
       "      <td>5</td>\n",
       "      <td>5</td>\n",
       "      <td>t</td>\n",
       "      <td>n</td>\n",
       "      <td>s</td>\n",
       "      <td>mms</td>\n",
       "      <td>2</td>\n",
       "    </tr>\n",
       "  </tbody>\n",
       "</table>\n",
       "<p>214839 rows × 12 columns</p>\n",
       "</div>"
      ],
      "text/plain": [
       "        Ng1   Ng2    Ng3  Nfl  Na  Pa  Ph Cls Tr Pb  Css  DG\n",
       "0        30   266   1224    1  25   5   2   t  n  s  mms   1\n",
       "1        17   409  12182    2   0  13   7   t  n  s  mms   2\n",
       "2        17   716   7056    2   5  12   6   o  q  s  mms   2\n",
       "3         4   651    105    2  80   5   4   n  n  s  mms   1\n",
       "4         3  1387   3909    5  40   5  10   t  n  o  mmb   1\n",
       "...     ...   ...    ...  ...  ..  ..  ..  .. .. ..  ...  ..\n",
       "214834   10  1007  10666    2  40   5   4   t  n  s  mms   2\n",
       "214835    4  1235   4976    3  25   9   7   t  q  s  mms   1\n",
       "214836   20  1359   1810    2   5   7   5   t  n  s  mms   1\n",
       "214837   17   303   9803    3  55  10   6   t  q  s  mms   2\n",
       "214838    8   374    698    2  45   5   5   t  n  s  mms   2\n",
       "\n",
       "[214839 rows x 12 columns]"
      ]
     },
     "execution_count": 2,
     "metadata": {},
     "output_type": "execute_result"
    }
   ],
   "source": [
    "data = pd.read_csv('data.csv')\n",
    "data=data.loc[:, 'Ng1':'DG']\n",
    "data"
   ]
  },
  {
   "cell_type": "code",
   "execution_count": 3,
   "id": "8c0dad92",
   "metadata": {},
   "outputs": [
    {
     "data": {
      "text/html": [
       "<div>\n",
       "<style scoped>\n",
       "    .dataframe tbody tr th:only-of-type {\n",
       "        vertical-align: middle;\n",
       "    }\n",
       "\n",
       "    .dataframe tbody tr th {\n",
       "        vertical-align: top;\n",
       "    }\n",
       "\n",
       "    .dataframe thead th {\n",
       "        text-align: right;\n",
       "    }\n",
       "</style>\n",
       "<table border=\"1\" class=\"dataframe\">\n",
       "  <thead>\n",
       "    <tr style=\"text-align: right;\">\n",
       "      <th></th>\n",
       "      <th>Ng1</th>\n",
       "      <th>Ng2</th>\n",
       "      <th>Ng3</th>\n",
       "      <th>Nfl</th>\n",
       "      <th>Na</th>\n",
       "      <th>Pa</th>\n",
       "      <th>Ph</th>\n",
       "      <th>Cls</th>\n",
       "      <th>Tr</th>\n",
       "      <th>Pb</th>\n",
       "      <th>Css</th>\n",
       "    </tr>\n",
       "  </thead>\n",
       "  <tbody>\n",
       "    <tr>\n",
       "      <th>0</th>\n",
       "      <td>30</td>\n",
       "      <td>266</td>\n",
       "      <td>1224</td>\n",
       "      <td>1</td>\n",
       "      <td>25</td>\n",
       "      <td>5</td>\n",
       "      <td>2</td>\n",
       "      <td>t</td>\n",
       "      <td>n</td>\n",
       "      <td>s</td>\n",
       "      <td>mms</td>\n",
       "    </tr>\n",
       "    <tr>\n",
       "      <th>1</th>\n",
       "      <td>17</td>\n",
       "      <td>409</td>\n",
       "      <td>12182</td>\n",
       "      <td>2</td>\n",
       "      <td>0</td>\n",
       "      <td>13</td>\n",
       "      <td>7</td>\n",
       "      <td>t</td>\n",
       "      <td>n</td>\n",
       "      <td>s</td>\n",
       "      <td>mms</td>\n",
       "    </tr>\n",
       "    <tr>\n",
       "      <th>2</th>\n",
       "      <td>17</td>\n",
       "      <td>716</td>\n",
       "      <td>7056</td>\n",
       "      <td>2</td>\n",
       "      <td>5</td>\n",
       "      <td>12</td>\n",
       "      <td>6</td>\n",
       "      <td>o</td>\n",
       "      <td>q</td>\n",
       "      <td>s</td>\n",
       "      <td>mms</td>\n",
       "    </tr>\n",
       "    <tr>\n",
       "      <th>3</th>\n",
       "      <td>4</td>\n",
       "      <td>651</td>\n",
       "      <td>105</td>\n",
       "      <td>2</td>\n",
       "      <td>80</td>\n",
       "      <td>5</td>\n",
       "      <td>4</td>\n",
       "      <td>n</td>\n",
       "      <td>n</td>\n",
       "      <td>s</td>\n",
       "      <td>mms</td>\n",
       "    </tr>\n",
       "    <tr>\n",
       "      <th>4</th>\n",
       "      <td>3</td>\n",
       "      <td>1387</td>\n",
       "      <td>3909</td>\n",
       "      <td>5</td>\n",
       "      <td>40</td>\n",
       "      <td>5</td>\n",
       "      <td>10</td>\n",
       "      <td>t</td>\n",
       "      <td>n</td>\n",
       "      <td>o</td>\n",
       "      <td>mmb</td>\n",
       "    </tr>\n",
       "    <tr>\n",
       "      <th>...</th>\n",
       "      <td>...</td>\n",
       "      <td>...</td>\n",
       "      <td>...</td>\n",
       "      <td>...</td>\n",
       "      <td>...</td>\n",
       "      <td>...</td>\n",
       "      <td>...</td>\n",
       "      <td>...</td>\n",
       "      <td>...</td>\n",
       "      <td>...</td>\n",
       "      <td>...</td>\n",
       "    </tr>\n",
       "    <tr>\n",
       "      <th>214834</th>\n",
       "      <td>10</td>\n",
       "      <td>1007</td>\n",
       "      <td>10666</td>\n",
       "      <td>2</td>\n",
       "      <td>40</td>\n",
       "      <td>5</td>\n",
       "      <td>4</td>\n",
       "      <td>t</td>\n",
       "      <td>n</td>\n",
       "      <td>s</td>\n",
       "      <td>mms</td>\n",
       "    </tr>\n",
       "    <tr>\n",
       "      <th>214835</th>\n",
       "      <td>4</td>\n",
       "      <td>1235</td>\n",
       "      <td>4976</td>\n",
       "      <td>3</td>\n",
       "      <td>25</td>\n",
       "      <td>9</td>\n",
       "      <td>7</td>\n",
       "      <td>t</td>\n",
       "      <td>q</td>\n",
       "      <td>s</td>\n",
       "      <td>mms</td>\n",
       "    </tr>\n",
       "    <tr>\n",
       "      <th>214836</th>\n",
       "      <td>20</td>\n",
       "      <td>1359</td>\n",
       "      <td>1810</td>\n",
       "      <td>2</td>\n",
       "      <td>5</td>\n",
       "      <td>7</td>\n",
       "      <td>5</td>\n",
       "      <td>t</td>\n",
       "      <td>n</td>\n",
       "      <td>s</td>\n",
       "      <td>mms</td>\n",
       "    </tr>\n",
       "    <tr>\n",
       "      <th>214837</th>\n",
       "      <td>17</td>\n",
       "      <td>303</td>\n",
       "      <td>9803</td>\n",
       "      <td>3</td>\n",
       "      <td>55</td>\n",
       "      <td>10</td>\n",
       "      <td>6</td>\n",
       "      <td>t</td>\n",
       "      <td>q</td>\n",
       "      <td>s</td>\n",
       "      <td>mms</td>\n",
       "    </tr>\n",
       "    <tr>\n",
       "      <th>214838</th>\n",
       "      <td>8</td>\n",
       "      <td>374</td>\n",
       "      <td>698</td>\n",
       "      <td>2</td>\n",
       "      <td>45</td>\n",
       "      <td>5</td>\n",
       "      <td>5</td>\n",
       "      <td>t</td>\n",
       "      <td>n</td>\n",
       "      <td>s</td>\n",
       "      <td>mms</td>\n",
       "    </tr>\n",
       "  </tbody>\n",
       "</table>\n",
       "<p>214839 rows × 11 columns</p>\n",
       "</div>"
      ],
      "text/plain": [
       "        Ng1   Ng2    Ng3  Nfl  Na  Pa  Ph Cls Tr Pb  Css\n",
       "0        30   266   1224    1  25   5   2   t  n  s  mms\n",
       "1        17   409  12182    2   0  13   7   t  n  s  mms\n",
       "2        17   716   7056    2   5  12   6   o  q  s  mms\n",
       "3         4   651    105    2  80   5   4   n  n  s  mms\n",
       "4         3  1387   3909    5  40   5  10   t  n  o  mmb\n",
       "...     ...   ...    ...  ...  ..  ..  ..  .. .. ..  ...\n",
       "214834   10  1007  10666    2  40   5   4   t  n  s  mms\n",
       "214835    4  1235   4976    3  25   9   7   t  q  s  mms\n",
       "214836   20  1359   1810    2   5   7   5   t  n  s  mms\n",
       "214837   17   303   9803    3  55  10   6   t  q  s  mms\n",
       "214838    8   374    698    2  45   5   5   t  n  s  mms\n",
       "\n",
       "[214839 rows x 11 columns]"
      ]
     },
     "execution_count": 3,
     "metadata": {},
     "output_type": "execute_result"
    }
   ],
   "source": [
    "x=data.loc[:, 'Ng1':'Css']\n",
    "x"
   ]
  },
  {
   "cell_type": "code",
   "execution_count": 4,
   "id": "5598f90b",
   "metadata": {},
   "outputs": [
    {
     "data": {
      "text/plain": [
       "Ng1       int64\n",
       "Ng2       int64\n",
       "Ng3       int64\n",
       "Nfl       int64\n",
       "Na        int64\n",
       "Pa        int64\n",
       "Ph        int64\n",
       "Cls    category\n",
       "Tr     category\n",
       "Pb     category\n",
       "Css    category\n",
       "dtype: object"
      ]
     },
     "execution_count": 4,
     "metadata": {},
     "output_type": "execute_result"
    }
   ],
   "source": [
    "x[['Tr','Cls','Pb', 'Css']]=x[['Tr','Cls','Pb', 'Css']].astype('category')\n",
    "x.dtypes"
   ]
  },
  {
   "cell_type": "code",
   "execution_count": 5,
   "id": "b53657b7",
   "metadata": {},
   "outputs": [
    {
     "data": {
      "text/html": [
       "<div>\n",
       "<style scoped>\n",
       "    .dataframe tbody tr th:only-of-type {\n",
       "        vertical-align: middle;\n",
       "    }\n",
       "\n",
       "    .dataframe tbody tr th {\n",
       "        vertical-align: top;\n",
       "    }\n",
       "\n",
       "    .dataframe thead th {\n",
       "        text-align: right;\n",
       "    }\n",
       "</style>\n",
       "<table border=\"1\" class=\"dataframe\">\n",
       "  <thead>\n",
       "    <tr style=\"text-align: right;\">\n",
       "      <th></th>\n",
       "      <th>Ng1</th>\n",
       "      <th>Ng2</th>\n",
       "      <th>Ng3</th>\n",
       "      <th>Nfl</th>\n",
       "      <th>Na</th>\n",
       "      <th>Pa</th>\n",
       "      <th>Ph</th>\n",
       "      <th>Cls</th>\n",
       "      <th>Tr</th>\n",
       "      <th>Pb</th>\n",
       "      <th>Css</th>\n",
       "    </tr>\n",
       "  </thead>\n",
       "  <tbody>\n",
       "    <tr>\n",
       "      <th>0</th>\n",
       "      <td>1.981761</td>\n",
       "      <td>-1.049271</td>\n",
       "      <td>-1.375597</td>\n",
       "      <td>-1.535787</td>\n",
       "      <td>-0.022956</td>\n",
       "      <td>-0.688724</td>\n",
       "      <td>-1.759421</td>\n",
       "      <td>t</td>\n",
       "      <td>n</td>\n",
       "      <td>s</td>\n",
       "      <td>mms</td>\n",
       "    </tr>\n",
       "    <tr>\n",
       "      <th>1</th>\n",
       "      <td>0.370355</td>\n",
       "      <td>-0.703061</td>\n",
       "      <td>1.617499</td>\n",
       "      <td>-0.172111</td>\n",
       "      <td>-0.353404</td>\n",
       "      <td>1.079663</td>\n",
       "      <td>0.800049</td>\n",
       "      <td>t</td>\n",
       "      <td>n</td>\n",
       "      <td>s</td>\n",
       "      <td>mms</td>\n",
       "    </tr>\n",
       "    <tr>\n",
       "      <th>2</th>\n",
       "      <td>0.370355</td>\n",
       "      <td>0.040201</td>\n",
       "      <td>0.217370</td>\n",
       "      <td>-0.172111</td>\n",
       "      <td>-0.287314</td>\n",
       "      <td>0.858615</td>\n",
       "      <td>0.288155</td>\n",
       "      <td>o</td>\n",
       "      <td>q</td>\n",
       "      <td>s</td>\n",
       "      <td>mms</td>\n",
       "    </tr>\n",
       "    <tr>\n",
       "      <th>3</th>\n",
       "      <td>-1.241050</td>\n",
       "      <td>-0.117167</td>\n",
       "      <td>-1.681244</td>\n",
       "      <td>-0.172111</td>\n",
       "      <td>0.704031</td>\n",
       "      <td>-0.688724</td>\n",
       "      <td>-0.735633</td>\n",
       "      <td>n</td>\n",
       "      <td>n</td>\n",
       "      <td>s</td>\n",
       "      <td>mms</td>\n",
       "    </tr>\n",
       "    <tr>\n",
       "      <th>4</th>\n",
       "      <td>-1.365005</td>\n",
       "      <td>1.664725</td>\n",
       "      <td>-0.642209</td>\n",
       "      <td>3.918920</td>\n",
       "      <td>0.175314</td>\n",
       "      <td>-0.688724</td>\n",
       "      <td>2.335731</td>\n",
       "      <td>t</td>\n",
       "      <td>n</td>\n",
       "      <td>o</td>\n",
       "      <td>mmb</td>\n",
       "    </tr>\n",
       "    <tr>\n",
       "      <th>...</th>\n",
       "      <td>...</td>\n",
       "      <td>...</td>\n",
       "      <td>...</td>\n",
       "      <td>...</td>\n",
       "      <td>...</td>\n",
       "      <td>...</td>\n",
       "      <td>...</td>\n",
       "      <td>...</td>\n",
       "      <td>...</td>\n",
       "      <td>...</td>\n",
       "      <td>...</td>\n",
       "    </tr>\n",
       "    <tr>\n",
       "      <th>214834</th>\n",
       "      <td>-0.497325</td>\n",
       "      <td>0.744726</td>\n",
       "      <td>1.203415</td>\n",
       "      <td>-0.172111</td>\n",
       "      <td>0.175314</td>\n",
       "      <td>-0.688724</td>\n",
       "      <td>-0.735633</td>\n",
       "      <td>t</td>\n",
       "      <td>n</td>\n",
       "      <td>s</td>\n",
       "      <td>mms</td>\n",
       "    </tr>\n",
       "    <tr>\n",
       "      <th>214835</th>\n",
       "      <td>-1.241050</td>\n",
       "      <td>1.296725</td>\n",
       "      <td>-0.350766</td>\n",
       "      <td>1.191566</td>\n",
       "      <td>-0.022956</td>\n",
       "      <td>0.195470</td>\n",
       "      <td>0.800049</td>\n",
       "      <td>t</td>\n",
       "      <td>q</td>\n",
       "      <td>s</td>\n",
       "      <td>mms</td>\n",
       "    </tr>\n",
       "    <tr>\n",
       "      <th>214836</th>\n",
       "      <td>0.742218</td>\n",
       "      <td>1.596935</td>\n",
       "      <td>-1.215536</td>\n",
       "      <td>-0.172111</td>\n",
       "      <td>-0.287314</td>\n",
       "      <td>-0.246627</td>\n",
       "      <td>-0.223739</td>\n",
       "      <td>t</td>\n",
       "      <td>n</td>\n",
       "      <td>s</td>\n",
       "      <td>mms</td>\n",
       "    </tr>\n",
       "    <tr>\n",
       "      <th>214837</th>\n",
       "      <td>0.370355</td>\n",
       "      <td>-0.959692</td>\n",
       "      <td>0.967693</td>\n",
       "      <td>1.191566</td>\n",
       "      <td>0.373583</td>\n",
       "      <td>0.416518</td>\n",
       "      <td>0.288155</td>\n",
       "      <td>t</td>\n",
       "      <td>q</td>\n",
       "      <td>s</td>\n",
       "      <td>mms</td>\n",
       "    </tr>\n",
       "    <tr>\n",
       "      <th>214838</th>\n",
       "      <td>-0.745233</td>\n",
       "      <td>-0.787798</td>\n",
       "      <td>-1.519270</td>\n",
       "      <td>-0.172111</td>\n",
       "      <td>0.241403</td>\n",
       "      <td>-0.688724</td>\n",
       "      <td>-0.223739</td>\n",
       "      <td>t</td>\n",
       "      <td>n</td>\n",
       "      <td>s</td>\n",
       "      <td>mms</td>\n",
       "    </tr>\n",
       "  </tbody>\n",
       "</table>\n",
       "<p>214839 rows × 11 columns</p>\n",
       "</div>"
      ],
      "text/plain": [
       "             Ng1       Ng2       Ng3       Nfl        Na        Pa        Ph  \\\n",
       "0       1.981761 -1.049271 -1.375597 -1.535787 -0.022956 -0.688724 -1.759421   \n",
       "1       0.370355 -0.703061  1.617499 -0.172111 -0.353404  1.079663  0.800049   \n",
       "2       0.370355  0.040201  0.217370 -0.172111 -0.287314  0.858615  0.288155   \n",
       "3      -1.241050 -0.117167 -1.681244 -0.172111  0.704031 -0.688724 -0.735633   \n",
       "4      -1.365005  1.664725 -0.642209  3.918920  0.175314 -0.688724  2.335731   \n",
       "...          ...       ...       ...       ...       ...       ...       ...   \n",
       "214834 -0.497325  0.744726  1.203415 -0.172111  0.175314 -0.688724 -0.735633   \n",
       "214835 -1.241050  1.296725 -0.350766  1.191566 -0.022956  0.195470  0.800049   \n",
       "214836  0.742218  1.596935 -1.215536 -0.172111 -0.287314 -0.246627 -0.223739   \n",
       "214837  0.370355 -0.959692  0.967693  1.191566  0.373583  0.416518  0.288155   \n",
       "214838 -0.745233 -0.787798 -1.519270 -0.172111  0.241403 -0.688724 -0.223739   \n",
       "\n",
       "       Cls Tr Pb  Css  \n",
       "0        t  n  s  mms  \n",
       "1        t  n  s  mms  \n",
       "2        o  q  s  mms  \n",
       "3        n  n  s  mms  \n",
       "4        t  n  o  mmb  \n",
       "...     .. .. ..  ...  \n",
       "214834   t  n  s  mms  \n",
       "214835   t  q  s  mms  \n",
       "214836   t  n  s  mms  \n",
       "214837   t  q  s  mms  \n",
       "214838   t  n  s  mms  \n",
       "\n",
       "[214839 rows x 11 columns]"
      ]
     },
     "execution_count": 5,
     "metadata": {},
     "output_type": "execute_result"
    }
   ],
   "source": [
    "from sklearn.preprocessing import StandardScaler\n",
    "scaler = StandardScaler()\n",
    "x[['Ng1','Ng2','Ng3','Nfl','Na','Pa','Ph']] = \\\n",
    "scaler.fit_transform(x[['Ng1','Ng2','Ng3','Nfl','Na','Pa','Ph']])\n",
    "x"
   ]
  },
  {
   "cell_type": "code",
   "execution_count": 6,
   "id": "4ab1caa1",
   "metadata": {},
   "outputs": [
    {
     "data": {
      "text/plain": [
       "0         1\n",
       "1         2\n",
       "2         2\n",
       "3         1\n",
       "4         1\n",
       "         ..\n",
       "214834    2\n",
       "214835    1\n",
       "214836    1\n",
       "214837    2\n",
       "214838    2\n",
       "Name: DG, Length: 214839, dtype: int64"
      ]
     },
     "execution_count": 6,
     "metadata": {},
     "output_type": "execute_result"
    }
   ],
   "source": [
    "y=data.loc[:, 'DG']\n",
    "y.astype('category')\n",
    "y"
   ]
  },
  {
   "cell_type": "code",
   "execution_count": 7,
   "id": "97cdaec1",
   "metadata": {},
   "outputs": [],
   "source": [
    "from sklearn.model_selection import train_test_split\n",
    "indices = range(len(y))\n",
    "\n",
    "x_train, x_test, y_train, y_test, indices_train,indices_test = \\\n",
    "train_test_split(x, y, indices, test_size=0.3,random_state=1)\n"
   ]
  },
  {
   "cell_type": "code",
   "execution_count": 8,
   "id": "2d22b190",
   "metadata": {},
   "outputs": [
    {
     "data": {
      "text/plain": [
       "1    0.608350\n",
       "2    0.274585\n",
       "0    0.117065\n",
       "Name: DG, dtype: float64"
      ]
     },
     "execution_count": 8,
     "metadata": {},
     "output_type": "execute_result"
    }
   ],
   "source": [
    "y_train.value_counts()/len(y_train)"
   ]
  },
  {
   "cell_type": "code",
   "execution_count": 9,
   "id": "d355a5e5",
   "metadata": {},
   "outputs": [
    {
     "data": {
      "text/html": [
       "<style>#sk-container-id-1 {color: black;background-color: white;}#sk-container-id-1 pre{padding: 0;}#sk-container-id-1 div.sk-toggleable {background-color: white;}#sk-container-id-1 label.sk-toggleable__label {cursor: pointer;display: block;width: 100%;margin-bottom: 0;padding: 0.3em;box-sizing: border-box;text-align: center;}#sk-container-id-1 label.sk-toggleable__label-arrow:before {content: \"▸\";float: left;margin-right: 0.25em;color: #696969;}#sk-container-id-1 label.sk-toggleable__label-arrow:hover:before {color: black;}#sk-container-id-1 div.sk-estimator:hover label.sk-toggleable__label-arrow:before {color: black;}#sk-container-id-1 div.sk-toggleable__content {max-height: 0;max-width: 0;overflow: hidden;text-align: left;background-color: #f0f8ff;}#sk-container-id-1 div.sk-toggleable__content pre {margin: 0.2em;color: black;border-radius: 0.25em;background-color: #f0f8ff;}#sk-container-id-1 input.sk-toggleable__control:checked~div.sk-toggleable__content {max-height: 200px;max-width: 100%;overflow: auto;}#sk-container-id-1 input.sk-toggleable__control:checked~label.sk-toggleable__label-arrow:before {content: \"▾\";}#sk-container-id-1 div.sk-estimator input.sk-toggleable__control:checked~label.sk-toggleable__label {background-color: #d4ebff;}#sk-container-id-1 div.sk-label input.sk-toggleable__control:checked~label.sk-toggleable__label {background-color: #d4ebff;}#sk-container-id-1 input.sk-hidden--visually {border: 0;clip: rect(1px 1px 1px 1px);clip: rect(1px, 1px, 1px, 1px);height: 1px;margin: -1px;overflow: hidden;padding: 0;position: absolute;width: 1px;}#sk-container-id-1 div.sk-estimator {font-family: monospace;background-color: #f0f8ff;border: 1px dotted black;border-radius: 0.25em;box-sizing: border-box;margin-bottom: 0.5em;}#sk-container-id-1 div.sk-estimator:hover {background-color: #d4ebff;}#sk-container-id-1 div.sk-parallel-item::after {content: \"\";width: 100%;border-bottom: 1px solid gray;flex-grow: 1;}#sk-container-id-1 div.sk-label:hover label.sk-toggleable__label {background-color: #d4ebff;}#sk-container-id-1 div.sk-serial::before {content: \"\";position: absolute;border-left: 1px solid gray;box-sizing: border-box;top: 0;bottom: 0;left: 50%;z-index: 0;}#sk-container-id-1 div.sk-serial {display: flex;flex-direction: column;align-items: center;background-color: white;padding-right: 0.2em;padding-left: 0.2em;position: relative;}#sk-container-id-1 div.sk-item {position: relative;z-index: 1;}#sk-container-id-1 div.sk-parallel {display: flex;align-items: stretch;justify-content: center;background-color: white;position: relative;}#sk-container-id-1 div.sk-item::before, #sk-container-id-1 div.sk-parallel-item::before {content: \"\";position: absolute;border-left: 1px solid gray;box-sizing: border-box;top: 0;bottom: 0;left: 50%;z-index: -1;}#sk-container-id-1 div.sk-parallel-item {display: flex;flex-direction: column;z-index: 1;position: relative;background-color: white;}#sk-container-id-1 div.sk-parallel-item:first-child::after {align-self: flex-end;width: 50%;}#sk-container-id-1 div.sk-parallel-item:last-child::after {align-self: flex-start;width: 50%;}#sk-container-id-1 div.sk-parallel-item:only-child::after {width: 0;}#sk-container-id-1 div.sk-dashed-wrapped {border: 1px dashed gray;margin: 0 0.4em 0.5em 0.4em;box-sizing: border-box;padding-bottom: 0.4em;background-color: white;}#sk-container-id-1 div.sk-label label {font-family: monospace;font-weight: bold;display: inline-block;line-height: 1.2em;}#sk-container-id-1 div.sk-label-container {text-align: center;}#sk-container-id-1 div.sk-container {/* jupyter's `normalize.less` sets `[hidden] { display: none; }` but bootstrap.min.css set `[hidden] { display: none !important; }` so we also need the `!important` here to be able to override the default hidden behavior on the sphinx rendered scikit-learn.org. See: https://github.com/scikit-learn/scikit-learn/issues/21755 */display: inline-block !important;position: relative;}#sk-container-id-1 div.sk-text-repr-fallback {display: none;}</style><div id=\"sk-container-id-1\" class=\"sk-top-container\"><div class=\"sk-text-repr-fallback\"><pre>LGBMClassifier()</pre><b>In a Jupyter environment, please rerun this cell to show the HTML representation or trust the notebook. <br />On GitHub, the HTML representation is unable to render, please try loading this page with nbviewer.org.</b></div><div class=\"sk-container\" hidden><div class=\"sk-item\"><div class=\"sk-estimator sk-toggleable\"><input class=\"sk-toggleable__control sk-hidden--visually\" id=\"sk-estimator-id-1\" type=\"checkbox\" checked><label for=\"sk-estimator-id-1\" class=\"sk-toggleable__label sk-toggleable__label-arrow\">LGBMClassifier</label><div class=\"sk-toggleable__content\"><pre>LGBMClassifier()</pre></div></div></div></div></div>"
      ],
      "text/plain": [
       "LGBMClassifier()"
      ]
     },
     "execution_count": 9,
     "metadata": {},
     "output_type": "execute_result"
    }
   ],
   "source": [
    "from lightgbm import LGBMClassifier\n",
    "model_L = LGBMClassifier()\n",
    "model_L.fit(x_train, y_train)"
   ]
  },
  {
   "cell_type": "code",
   "execution_count": 10,
   "id": "7efb9abc",
   "metadata": {},
   "outputs": [
    {
     "data": {
      "text/plain": [
       "0.8346986904983553"
      ]
     },
     "execution_count": 10,
     "metadata": {},
     "output_type": "execute_result"
    }
   ],
   "source": [
    "from sklearn import metrics\n",
    "y_pred = model_L.predict(x_test)\n",
    "metrics.accuracy_score(y_test,y_pred)"
   ]
  },
  {
   "cell_type": "code",
   "execution_count": 11,
   "id": "810fd0a4",
   "metadata": {},
   "outputs": [
    {
     "data": {
      "text/plain": [
       "array([[ 3551,  3893,    75],\n",
       "       [ 1210, 36127,  1828],\n",
       "       [   45,  3603, 14120]], dtype=int64)"
      ]
     },
     "execution_count": 11,
     "metadata": {},
     "output_type": "execute_result"
    }
   ],
   "source": [
    "metrics.confusion_matrix(y_test, y_pred, labels=None, sample_weight=None)"
   ]
  },
  {
   "cell_type": "code",
   "execution_count": 12,
   "id": "d809ebe9",
   "metadata": {},
   "outputs": [
    {
     "data": {
      "text/plain": [
       "0.8400726126593389"
      ]
     },
     "execution_count": 12,
     "metadata": {},
     "output_type": "execute_result"
    }
   ],
   "source": [
    "y_pred_t = model_L.predict(x_train)\n",
    "metrics.accuracy_score(y_train,y_pred_t)"
   ]
  },
  {
   "cell_type": "code",
   "execution_count": 13,
   "id": "b7abd6fa",
   "metadata": {},
   "outputs": [
    {
     "name": "stdout",
     "output_type": "stream",
     "text": [
      "Fitting 5 folds for each of 16 candidates, totalling 80 fits\n"
     ]
    },
    {
     "data": {
      "text/plain": [
       "{'learning_rate': 0.1, 'max_depth': 8, 'n_estimators': 1200, 'num_leaves': 100}"
      ]
     },
     "execution_count": 13,
     "metadata": {},
     "output_type": "execute_result"
    }
   ],
   "source": [
    "from sklearn.model_selection import GridSearchCV\n",
    "from sklearn.metrics import make_scorer\n",
    "\n",
    "parameters = {'num_leaves': [50,75,100,125],\n",
    "             'n_estimators': [1200],\n",
    "             'learning_rate': [0.1],\n",
    "             'max_depth':[6,7,8,9]}\n",
    "model = LGBMClassifier()\n",
    "\n",
    "grid_search = GridSearchCV(model, parameters, scoring='accuracy', cv=5,n_jobs=-1,verbose=1)\n",
    "\n",
    "grid_search.fit(x_train, y_train)\n",
    "grid_search.best_params_"
   ]
  },
  {
   "cell_type": "code",
   "execution_count": 14,
   "id": "25cb9f74",
   "metadata": {},
   "outputs": [
    {
     "name": "stdout",
     "output_type": "stream",
     "text": [
      "Fitting 5 folds for each of 9 candidates, totalling 45 fits\n"
     ]
    },
    {
     "data": {
      "text/plain": [
       "{'colsample_bytree': 0.8,\n",
       " 'learning_rate': 0.1,\n",
       " 'max_depth': 8,\n",
       " 'n_estimators': 1200,\n",
       " 'num_leaves': 100,\n",
       " 'subsample': 0.8}"
      ]
     },
     "execution_count": 14,
     "metadata": {},
     "output_type": "execute_result"
    }
   ],
   "source": [
    "parameters = {'num_leaves': [100],\n",
    "             'n_estimators': [1200],\n",
    "             'learning_rate': [0.1],\n",
    "             'max_depth':[8],\n",
    "             'subsample':[0.8,0.9,1.0],\n",
    "             'colsample_bytree':[0.8,0.9,1.0]}\n",
    "model = LGBMClassifier()\n",
    "\n",
    "grid_search = GridSearchCV(model, parameters, scoring='accuracy', cv=5,n_jobs=-1,verbose=1)\n",
    "\n",
    "grid_search.fit(x_train, y_train)\n",
    "grid_search.best_params_"
   ]
  },
  {
   "cell_type": "code",
   "execution_count": 15,
   "id": "bcefac04",
   "metadata": {},
   "outputs": [
    {
     "data": {
      "text/plain": [
       "16.40663981437683"
      ]
     },
     "execution_count": 15,
     "metadata": {},
     "output_type": "execute_result"
    }
   ],
   "source": [
    "from lightgbm import LGBMClassifier\n",
    "opt_model = LGBMClassifier(learning_rate=0.1, n_estimators=1200,num_leaves=100,\n",
    "                           max_depth = 8,colsample_bytree=0.8,subsample=0.8)\n",
    "\n",
    "import time\n",
    "start_time = time.time()\n",
    "\n",
    "opt_model.fit(x_train, y_train)\n",
    "\n",
    "end_time = time.time()   \n",
    "run_time = end_time - start_time \n",
    "run_time"
   ]
  },
  {
   "attachments": {
    "image-4.png": {
     "image/png": "[encoded data removed]"
    }
   },
   "cell_type": "markdown",
   "id": "df68b7c1",
   "metadata": {},
   "source": [
    "### t = 12.68\n",
    "![image-4.png](attachment:image-4.png)\n",
    "(The authors' note: There may be some differences in the time taken for each running. The above is the result when writing the paper.)"
   ]
  },
  {
   "cell_type": "code",
   "execution_count": 18,
   "id": "9ae5544f",
   "metadata": {},
   "outputs": [
    {
     "data": {
      "text/plain": [
       "0.8969310494631664"
      ]
     },
     "execution_count": 18,
     "metadata": {},
     "output_type": "execute_result"
    }
   ],
   "source": [
    "from sklearn import metrics\n",
    "y_pred = opt_model.predict(x_test)\n",
    "metrics.accuracy_score(y_test,y_pred)"
   ]
  },
  {
   "cell_type": "code",
   "execution_count": 19,
   "id": "48fa0fc8",
   "metadata": {},
   "outputs": [
    {
     "data": {
      "text/plain": [
       "0.8969310494631664"
      ]
     },
     "execution_count": 19,
     "metadata": {},
     "output_type": "execute_result"
    }
   ],
   "source": [
    "metrics.f1_score(y_test, y_pred, labels=None,average='micro', sample_weight=None)"
   ]
  },
  {
   "cell_type": "code",
   "execution_count": 20,
   "id": "099d1b94",
   "metadata": {},
   "outputs": [
    {
     "data": {
      "text/plain": [
       "0.8399424211977425"
      ]
     },
     "execution_count": 20,
     "metadata": {},
     "output_type": "execute_result"
    }
   ],
   "source": [
    "metrics.f1_score(y_test, y_pred, labels=None,average='macro', sample_weight=None)"
   ]
  },
  {
   "cell_type": "code",
   "execution_count": 21,
   "id": "4a525ca2",
   "metadata": {},
   "outputs": [
    {
     "data": {
      "text/plain": [
       "array([0.76754613, 0.89649233, 0.94101784])"
      ]
     },
     "execution_count": 21,
     "metadata": {},
     "output_type": "execute_result"
    }
   ],
   "source": [
    "metrics.precision_score(y_test, y_pred, labels=None, average=None)"
   ]
  },
  {
   "cell_type": "code",
   "execution_count": 22,
   "id": "c2131ef2",
   "metadata": {},
   "outputs": [
    {
     "data": {
      "text/plain": [
       "array([0.59196702, 0.94362313, 0.92306394])"
      ]
     },
     "execution_count": 22,
     "metadata": {},
     "output_type": "execute_result"
    }
   ],
   "source": [
    "metrics.recall_score(y_test, y_pred, labels=None, average=None)"
   ]
  },
  {
   "cell_type": "code",
   "execution_count": 23,
   "id": "041f0453",
   "metadata": {},
   "outputs": [
    {
     "data": {
      "text/plain": [
       "array([[ 4451,  2962,   106],\n",
       "       [ 1286, 36957,   922],\n",
       "       [   62,  1305, 16401]], dtype=int64)"
      ]
     },
     "execution_count": 23,
     "metadata": {},
     "output_type": "execute_result"
    }
   ],
   "source": [
    "metrics.confusion_matrix(y_test, y_pred, labels=None, sample_weight=None)"
   ]
  },
  {
   "cell_type": "code",
   "execution_count": 24,
   "id": "73c2c9a1",
   "metadata": {},
   "outputs": [
    {
     "data": {
      "text/plain": [
       "0.9752571698351586"
      ]
     },
     "execution_count": 24,
     "metadata": {},
     "output_type": "execute_result"
    }
   ],
   "source": [
    "y_pred_t = opt_model.predict(x_train)\n",
    "metrics.accuracy_score(y_train,y_pred_t)"
   ]
  },
  {
   "cell_type": "code",
   "execution_count": 25,
   "id": "51338f0a",
   "metadata": {},
   "outputs": [
    {
     "data": {
      "text/plain": [
       "array([[14700,  2832,    73],\n",
       "       [  422, 90920,   146],\n",
       "       [    3,   245, 41046]], dtype=int64)"
      ]
     },
     "execution_count": 25,
     "metadata": {},
     "output_type": "execute_result"
    }
   ],
   "source": [
    "metrics.confusion_matrix(y_train, y_pred_t, labels=None, sample_weight=None)"
   ]
  },
  {
   "cell_type": "code",
   "execution_count": null,
   "id": "39042a40",
   "metadata": {},
   "outputs": [],
   "source": []
  }
 ],
 "metadata": {
  "kernelspec": {
   "display_name": "Python 3 (ipykernel)",
   "language": "python",
   "name": "python3"
  },
  "language_info": {
   "codemirror_mode": {
    "name": "ipython",
    "version": 3
   },
   "file_extension": ".py",
   "mimetype": "text/x-python",
   "name": "python",
   "nbconvert_exporter": "python",
   "pygments_lexer": "ipython3",
   "version": "3.10.4"
  }
 },
 "nbformat": 4,
 "nbformat_minor": 5
}
