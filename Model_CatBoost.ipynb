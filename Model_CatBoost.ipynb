{
 "cells": [
  {
   "cell_type": "code",
   "execution_count": 1,
   "id": "0e584a03",
   "metadata": {},
   "outputs": [],
   "source": [
    "%matplotlib inline\n",
    "import pandas as pd\n",
    "import matplotlib.pyplot as plt\n",
    "from sklearn import preprocessing\n",
    "from sklearn.linear_model import LogisticRegression\n",
    "from sklearn.model_selection import train_test_split\n",
    "import seaborn as sns\n",
    "plt.rcParams['font.family'] = 'Arial'\n",
    "sns.set(style=\"white\")\n",
    "sns.set(style=\"whitegrid\", color_codes=True)"
   ]
  },
  {
   "cell_type": "code",
   "execution_count": 2,
   "id": "fe3cd1b6",
   "metadata": {},
   "outputs": [
    {
     "data": {
      "text/html": [
       "<div>\n",
       "<style scoped>\n",
       "    .dataframe tbody tr th:only-of-type {\n",
       "        vertical-align: middle;\n",
       "    }\n",
       "\n",
       "    .dataframe tbody tr th {\n",
       "        vertical-align: top;\n",
       "    }\n",
       "\n",
       "    .dataframe thead th {\n",
       "        text-align: right;\n",
       "    }\n",
       "</style>\n",
       "<table border=\"1\" class=\"dataframe\">\n",
       "  <thead>\n",
       "    <tr style=\"text-align: right;\">\n",
       "      <th></th>\n",
       "      <th>Ng1</th>\n",
       "      <th>Ng2</th>\n",
       "      <th>Ng3</th>\n",
       "      <th>Nfl</th>\n",
       "      <th>Na</th>\n",
       "      <th>Pa</th>\n",
       "      <th>Ph</th>\n",
       "      <th>Cls</th>\n",
       "      <th>Tr</th>\n",
       "      <th>Pb</th>\n",
       "      <th>Css</th>\n",
       "      <th>DG</th>\n",
       "    </tr>\n",
       "  </thead>\n",
       "  <tbody>\n",
       "    <tr>\n",
       "      <th>0</th>\n",
       "      <td>30</td>\n",
       "      <td>266</td>\n",
       "      <td>1224</td>\n",
       "      <td>1</td>\n",
       "      <td>25</td>\n",
       "      <td>5</td>\n",
       "      <td>2</td>\n",
       "      <td>t</td>\n",
       "      <td>n</td>\n",
       "      <td>s</td>\n",
       "      <td>mms</td>\n",
       "      <td>1</td>\n",
       "    </tr>\n",
       "    <tr>\n",
       "      <th>1</th>\n",
       "      <td>17</td>\n",
       "      <td>409</td>\n",
       "      <td>12182</td>\n",
       "      <td>2</td>\n",
       "      <td>0</td>\n",
       "      <td>13</td>\n",
       "      <td>7</td>\n",
       "      <td>t</td>\n",
       "      <td>n</td>\n",
       "      <td>s</td>\n",
       "      <td>mms</td>\n",
       "      <td>2</td>\n",
       "    </tr>\n",
       "    <tr>\n",
       "      <th>2</th>\n",
       "      <td>17</td>\n",
       "      <td>716</td>\n",
       "      <td>7056</td>\n",
       "      <td>2</td>\n",
       "      <td>5</td>\n",
       "      <td>12</td>\n",
       "      <td>6</td>\n",
       "      <td>o</td>\n",
       "      <td>q</td>\n",
       "      <td>s</td>\n",
       "      <td>mms</td>\n",
       "      <td>2</td>\n",
       "    </tr>\n",
       "    <tr>\n",
       "      <th>3</th>\n",
       "      <td>4</td>\n",
       "      <td>651</td>\n",
       "      <td>105</td>\n",
       "      <td>2</td>\n",
       "      <td>80</td>\n",
       "      <td>5</td>\n",
       "      <td>4</td>\n",
       "      <td>n</td>\n",
       "      <td>n</td>\n",
       "      <td>s</td>\n",
       "      <td>mms</td>\n",
       "      <td>1</td>\n",
       "    </tr>\n",
       "    <tr>\n",
       "      <th>4</th>\n",
       "      <td>3</td>\n",
       "      <td>1387</td>\n",
       "      <td>3909</td>\n",
       "      <td>5</td>\n",
       "      <td>40</td>\n",
       "      <td>5</td>\n",
       "      <td>10</td>\n",
       "      <td>t</td>\n",
       "      <td>n</td>\n",
       "      <td>o</td>\n",
       "      <td>mmb</td>\n",
       "      <td>1</td>\n",
       "    </tr>\n",
       "    <tr>\n",
       "      <th>...</th>\n",
       "      <td>...</td>\n",
       "      <td>...</td>\n",
       "      <td>...</td>\n",
       "      <td>...</td>\n",
       "      <td>...</td>\n",
       "      <td>...</td>\n",
       "      <td>...</td>\n",
       "      <td>...</td>\n",
       "      <td>...</td>\n",
       "      <td>...</td>\n",
       "      <td>...</td>\n",
       "      <td>...</td>\n",
       "    </tr>\n",
       "    <tr>\n",
       "      <th>214834</th>\n",
       "      <td>10</td>\n",
       "      <td>1007</td>\n",
       "      <td>10666</td>\n",
       "      <td>2</td>\n",
       "      <td>40</td>\n",
       "      <td>5</td>\n",
       "      <td>4</td>\n",
       "      <td>t</td>\n",
       "      <td>n</td>\n",
       "      <td>s</td>\n",
       "      <td>mms</td>\n",
       "      <td>2</td>\n",
       "    </tr>\n",
       "    <tr>\n",
       "      <th>214835</th>\n",
       "      <td>4</td>\n",
       "      <td>1235</td>\n",
       "      <td>4976</td>\n",
       "      <td>3</td>\n",
       "      <td>25</td>\n",
       "      <td>9</td>\n",
       "      <td>7</td>\n",
       "      <td>t</td>\n",
       "      <td>q</td>\n",
       "      <td>s</td>\n",
       "      <td>mms</td>\n",
       "      <td>1</td>\n",
       "    </tr>\n",
       "    <tr>\n",
       "      <th>214836</th>\n",
       "      <td>20</td>\n",
       "      <td>1359</td>\n",
       "      <td>1810</td>\n",
       "      <td>2</td>\n",
       "      <td>5</td>\n",
       "      <td>7</td>\n",
       "      <td>5</td>\n",
       "      <td>t</td>\n",
       "      <td>n</td>\n",
       "      <td>s</td>\n",
       "      <td>mms</td>\n",
       "      <td>1</td>\n",
       "    </tr>\n",
       "    <tr>\n",
       "      <th>214837</th>\n",
       "      <td>17</td>\n",
       "      <td>303</td>\n",
       "      <td>9803</td>\n",
       "      <td>3</td>\n",
       "      <td>55</td>\n",
       "      <td>10</td>\n",
       "      <td>6</td>\n",
       "      <td>t</td>\n",
       "      <td>q</td>\n",
       "      <td>s</td>\n",
       "      <td>mms</td>\n",
       "      <td>2</td>\n",
       "    </tr>\n",
       "    <tr>\n",
       "      <th>214838</th>\n",
       "      <td>8</td>\n",
       "      <td>374</td>\n",
       "      <td>698</td>\n",
       "      <td>2</td>\n",
       "      <td>45</td>\n",
       "      <td>5</td>\n",
       "      <td>5</td>\n",
       "      <td>t</td>\n",
       "      <td>n</td>\n",
       "      <td>s</td>\n",
       "      <td>mms</td>\n",
       "      <td>2</td>\n",
       "    </tr>\n",
       "  </tbody>\n",
       "</table>\n",
       "<p>214839 rows × 12 columns</p>\n",
       "</div>"
      ],
      "text/plain": [
       "        Ng1   Ng2    Ng3  Nfl  Na  Pa  Ph Cls Tr Pb  Css  DG\n",
       "0        30   266   1224    1  25   5   2   t  n  s  mms   1\n",
       "1        17   409  12182    2   0  13   7   t  n  s  mms   2\n",
       "2        17   716   7056    2   5  12   6   o  q  s  mms   2\n",
       "3         4   651    105    2  80   5   4   n  n  s  mms   1\n",
       "4         3  1387   3909    5  40   5  10   t  n  o  mmb   1\n",
       "...     ...   ...    ...  ...  ..  ..  ..  .. .. ..  ...  ..\n",
       "214834   10  1007  10666    2  40   5   4   t  n  s  mms   2\n",
       "214835    4  1235   4976    3  25   9   7   t  q  s  mms   1\n",
       "214836   20  1359   1810    2   5   7   5   t  n  s  mms   1\n",
       "214837   17   303   9803    3  55  10   6   t  q  s  mms   2\n",
       "214838    8   374    698    2  45   5   5   t  n  s  mms   2\n",
       "\n",
       "[214839 rows x 12 columns]"
      ]
     },
     "execution_count": 2,
     "metadata": {},
     "output_type": "execute_result"
    }
   ],
   "source": [
    "data = pd.read_csv('data.csv')\n",
    "data=data.loc[:, 'Ng1':'DG']\n",
    "data"
   ]
  },
  {
   "cell_type": "code",
   "execution_count": 3,
   "id": "8c0dad92",
   "metadata": {},
   "outputs": [
    {
     "data": {
      "text/html": [
       "<div>\n",
       "<style scoped>\n",
       "    .dataframe tbody tr th:only-of-type {\n",
       "        vertical-align: middle;\n",
       "    }\n",
       "\n",
       "    .dataframe tbody tr th {\n",
       "        vertical-align: top;\n",
       "    }\n",
       "\n",
       "    .dataframe thead th {\n",
       "        text-align: right;\n",
       "    }\n",
       "</style>\n",
       "<table border=\"1\" class=\"dataframe\">\n",
       "  <thead>\n",
       "    <tr style=\"text-align: right;\">\n",
       "      <th></th>\n",
       "      <th>Ng1</th>\n",
       "      <th>Ng2</th>\n",
       "      <th>Ng3</th>\n",
       "      <th>Nfl</th>\n",
       "      <th>Na</th>\n",
       "      <th>Pa</th>\n",
       "      <th>Ph</th>\n",
       "      <th>Cls</th>\n",
       "      <th>Tr</th>\n",
       "      <th>Pb</th>\n",
       "      <th>Css</th>\n",
       "    </tr>\n",
       "  </thead>\n",
       "  <tbody>\n",
       "    <tr>\n",
       "      <th>0</th>\n",
       "      <td>30</td>\n",
       "      <td>266</td>\n",
       "      <td>1224</td>\n",
       "      <td>1</td>\n",
       "      <td>25</td>\n",
       "      <td>5</td>\n",
       "      <td>2</td>\n",
       "      <td>t</td>\n",
       "      <td>n</td>\n",
       "      <td>s</td>\n",
       "      <td>mms</td>\n",
       "    </tr>\n",
       "    <tr>\n",
       "      <th>1</th>\n",
       "      <td>17</td>\n",
       "      <td>409</td>\n",
       "      <td>12182</td>\n",
       "      <td>2</td>\n",
       "      <td>0</td>\n",
       "      <td>13</td>\n",
       "      <td>7</td>\n",
       "      <td>t</td>\n",
       "      <td>n</td>\n",
       "      <td>s</td>\n",
       "      <td>mms</td>\n",
       "    </tr>\n",
       "    <tr>\n",
       "      <th>2</th>\n",
       "      <td>17</td>\n",
       "      <td>716</td>\n",
       "      <td>7056</td>\n",
       "      <td>2</td>\n",
       "      <td>5</td>\n",
       "      <td>12</td>\n",
       "      <td>6</td>\n",
       "      <td>o</td>\n",
       "      <td>q</td>\n",
       "      <td>s</td>\n",
       "      <td>mms</td>\n",
       "    </tr>\n",
       "    <tr>\n",
       "      <th>3</th>\n",
       "      <td>4</td>\n",
       "      <td>651</td>\n",
       "      <td>105</td>\n",
       "      <td>2</td>\n",
       "      <td>80</td>\n",
       "      <td>5</td>\n",
       "      <td>4</td>\n",
       "      <td>n</td>\n",
       "      <td>n</td>\n",
       "      <td>s</td>\n",
       "      <td>mms</td>\n",
       "    </tr>\n",
       "    <tr>\n",
       "      <th>4</th>\n",
       "      <td>3</td>\n",
       "      <td>1387</td>\n",
       "      <td>3909</td>\n",
       "      <td>5</td>\n",
       "      <td>40</td>\n",
       "      <td>5</td>\n",
       "      <td>10</td>\n",
       "      <td>t</td>\n",
       "      <td>n</td>\n",
       "      <td>o</td>\n",
       "      <td>mmb</td>\n",
       "    </tr>\n",
       "    <tr>\n",
       "      <th>...</th>\n",
       "      <td>...</td>\n",
       "      <td>...</td>\n",
       "      <td>...</td>\n",
       "      <td>...</td>\n",
       "      <td>...</td>\n",
       "      <td>...</td>\n",
       "      <td>...</td>\n",
       "      <td>...</td>\n",
       "      <td>...</td>\n",
       "      <td>...</td>\n",
       "      <td>...</td>\n",
       "    </tr>\n",
       "    <tr>\n",
       "      <th>214834</th>\n",
       "      <td>10</td>\n",
       "      <td>1007</td>\n",
       "      <td>10666</td>\n",
       "      <td>2</td>\n",
       "      <td>40</td>\n",
       "      <td>5</td>\n",
       "      <td>4</td>\n",
       "      <td>t</td>\n",
       "      <td>n</td>\n",
       "      <td>s</td>\n",
       "      <td>mms</td>\n",
       "    </tr>\n",
       "    <tr>\n",
       "      <th>214835</th>\n",
       "      <td>4</td>\n",
       "      <td>1235</td>\n",
       "      <td>4976</td>\n",
       "      <td>3</td>\n",
       "      <td>25</td>\n",
       "      <td>9</td>\n",
       "      <td>7</td>\n",
       "      <td>t</td>\n",
       "      <td>q</td>\n",
       "      <td>s</td>\n",
       "      <td>mms</td>\n",
       "    </tr>\n",
       "    <tr>\n",
       "      <th>214836</th>\n",
       "      <td>20</td>\n",
       "      <td>1359</td>\n",
       "      <td>1810</td>\n",
       "      <td>2</td>\n",
       "      <td>5</td>\n",
       "      <td>7</td>\n",
       "      <td>5</td>\n",
       "      <td>t</td>\n",
       "      <td>n</td>\n",
       "      <td>s</td>\n",
       "      <td>mms</td>\n",
       "    </tr>\n",
       "    <tr>\n",
       "      <th>214837</th>\n",
       "      <td>17</td>\n",
       "      <td>303</td>\n",
       "      <td>9803</td>\n",
       "      <td>3</td>\n",
       "      <td>55</td>\n",
       "      <td>10</td>\n",
       "      <td>6</td>\n",
       "      <td>t</td>\n",
       "      <td>q</td>\n",
       "      <td>s</td>\n",
       "      <td>mms</td>\n",
       "    </tr>\n",
       "    <tr>\n",
       "      <th>214838</th>\n",
       "      <td>8</td>\n",
       "      <td>374</td>\n",
       "      <td>698</td>\n",
       "      <td>2</td>\n",
       "      <td>45</td>\n",
       "      <td>5</td>\n",
       "      <td>5</td>\n",
       "      <td>t</td>\n",
       "      <td>n</td>\n",
       "      <td>s</td>\n",
       "      <td>mms</td>\n",
       "    </tr>\n",
       "  </tbody>\n",
       "</table>\n",
       "<p>214839 rows × 11 columns</p>\n",
       "</div>"
      ],
      "text/plain": [
       "        Ng1   Ng2    Ng3  Nfl  Na  Pa  Ph Cls Tr Pb  Css\n",
       "0        30   266   1224    1  25   5   2   t  n  s  mms\n",
       "1        17   409  12182    2   0  13   7   t  n  s  mms\n",
       "2        17   716   7056    2   5  12   6   o  q  s  mms\n",
       "3         4   651    105    2  80   5   4   n  n  s  mms\n",
       "4         3  1387   3909    5  40   5  10   t  n  o  mmb\n",
       "...     ...   ...    ...  ...  ..  ..  ..  .. .. ..  ...\n",
       "214834   10  1007  10666    2  40   5   4   t  n  s  mms\n",
       "214835    4  1235   4976    3  25   9   7   t  q  s  mms\n",
       "214836   20  1359   1810    2   5   7   5   t  n  s  mms\n",
       "214837   17   303   9803    3  55  10   6   t  q  s  mms\n",
       "214838    8   374    698    2  45   5   5   t  n  s  mms\n",
       "\n",
       "[214839 rows x 11 columns]"
      ]
     },
     "execution_count": 3,
     "metadata": {},
     "output_type": "execute_result"
    }
   ],
   "source": [
    "x=data.loc[:, 'Ng1':'Css']\n",
    "x"
   ]
  },
  {
   "cell_type": "code",
   "execution_count": 4,
   "id": "5598f90b",
   "metadata": {},
   "outputs": [
    {
     "data": {
      "text/plain": [
       "Ng1       int64\n",
       "Ng2       int64\n",
       "Ng3       int64\n",
       "Nfl       int64\n",
       "Na        int64\n",
       "Pa        int64\n",
       "Ph        int64\n",
       "Cls    category\n",
       "Tr     category\n",
       "Pb     category\n",
       "Css    category\n",
       "dtype: object"
      ]
     },
     "execution_count": 4,
     "metadata": {},
     "output_type": "execute_result"
    }
   ],
   "source": [
    "x[['Tr','Cls','Pb', 'Css']]=x[['Tr','Cls','Pb', 'Css']].astype('category')\n",
    "x.dtypes"
   ]
  },
  {
   "cell_type": "code",
   "execution_count": 5,
   "id": "b53657b7",
   "metadata": {},
   "outputs": [
    {
     "data": {
      "text/html": [
       "<div>\n",
       "<style scoped>\n",
       "    .dataframe tbody tr th:only-of-type {\n",
       "        vertical-align: middle;\n",
       "    }\n",
       "\n",
       "    .dataframe tbody tr th {\n",
       "        vertical-align: top;\n",
       "    }\n",
       "\n",
       "    .dataframe thead th {\n",
       "        text-align: right;\n",
       "    }\n",
       "</style>\n",
       "<table border=\"1\" class=\"dataframe\">\n",
       "  <thead>\n",
       "    <tr style=\"text-align: right;\">\n",
       "      <th></th>\n",
       "      <th>Ng1</th>\n",
       "      <th>Ng2</th>\n",
       "      <th>Ng3</th>\n",
       "      <th>Nfl</th>\n",
       "      <th>Na</th>\n",
       "      <th>Pa</th>\n",
       "      <th>Ph</th>\n",
       "      <th>Cls</th>\n",
       "      <th>Tr</th>\n",
       "      <th>Pb</th>\n",
       "      <th>Css</th>\n",
       "    </tr>\n",
       "  </thead>\n",
       "  <tbody>\n",
       "    <tr>\n",
       "      <th>0</th>\n",
       "      <td>1.981761</td>\n",
       "      <td>-1.049271</td>\n",
       "      <td>-1.375597</td>\n",
       "      <td>-1.535787</td>\n",
       "      <td>-0.022956</td>\n",
       "      <td>-0.688724</td>\n",
       "      <td>-1.759421</td>\n",
       "      <td>t</td>\n",
       "      <td>n</td>\n",
       "      <td>s</td>\n",
       "      <td>mms</td>\n",
       "    </tr>\n",
       "    <tr>\n",
       "      <th>1</th>\n",
       "      <td>0.370355</td>\n",
       "      <td>-0.703061</td>\n",
       "      <td>1.617499</td>\n",
       "      <td>-0.172111</td>\n",
       "      <td>-0.353404</td>\n",
       "      <td>1.079663</td>\n",
       "      <td>0.800049</td>\n",
       "      <td>t</td>\n",
       "      <td>n</td>\n",
       "      <td>s</td>\n",
       "      <td>mms</td>\n",
       "    </tr>\n",
       "    <tr>\n",
       "      <th>2</th>\n",
       "      <td>0.370355</td>\n",
       "      <td>0.040201</td>\n",
       "      <td>0.217370</td>\n",
       "      <td>-0.172111</td>\n",
       "      <td>-0.287314</td>\n",
       "      <td>0.858615</td>\n",
       "      <td>0.288155</td>\n",
       "      <td>o</td>\n",
       "      <td>q</td>\n",
       "      <td>s</td>\n",
       "      <td>mms</td>\n",
       "    </tr>\n",
       "    <tr>\n",
       "      <th>3</th>\n",
       "      <td>-1.241050</td>\n",
       "      <td>-0.117167</td>\n",
       "      <td>-1.681244</td>\n",
       "      <td>-0.172111</td>\n",
       "      <td>0.704031</td>\n",
       "      <td>-0.688724</td>\n",
       "      <td>-0.735633</td>\n",
       "      <td>n</td>\n",
       "      <td>n</td>\n",
       "      <td>s</td>\n",
       "      <td>mms</td>\n",
       "    </tr>\n",
       "    <tr>\n",
       "      <th>4</th>\n",
       "      <td>-1.365005</td>\n",
       "      <td>1.664725</td>\n",
       "      <td>-0.642209</td>\n",
       "      <td>3.918920</td>\n",
       "      <td>0.175314</td>\n",
       "      <td>-0.688724</td>\n",
       "      <td>2.335731</td>\n",
       "      <td>t</td>\n",
       "      <td>n</td>\n",
       "      <td>o</td>\n",
       "      <td>mmb</td>\n",
       "    </tr>\n",
       "    <tr>\n",
       "      <th>...</th>\n",
       "      <td>...</td>\n",
       "      <td>...</td>\n",
       "      <td>...</td>\n",
       "      <td>...</td>\n",
       "      <td>...</td>\n",
       "      <td>...</td>\n",
       "      <td>...</td>\n",
       "      <td>...</td>\n",
       "      <td>...</td>\n",
       "      <td>...</td>\n",
       "      <td>...</td>\n",
       "    </tr>\n",
       "    <tr>\n",
       "      <th>214834</th>\n",
       "      <td>-0.497325</td>\n",
       "      <td>0.744726</td>\n",
       "      <td>1.203415</td>\n",
       "      <td>-0.172111</td>\n",
       "      <td>0.175314</td>\n",
       "      <td>-0.688724</td>\n",
       "      <td>-0.735633</td>\n",
       "      <td>t</td>\n",
       "      <td>n</td>\n",
       "      <td>s</td>\n",
       "      <td>mms</td>\n",
       "    </tr>\n",
       "    <tr>\n",
       "      <th>214835</th>\n",
       "      <td>-1.241050</td>\n",
       "      <td>1.296725</td>\n",
       "      <td>-0.350766</td>\n",
       "      <td>1.191566</td>\n",
       "      <td>-0.022956</td>\n",
       "      <td>0.195470</td>\n",
       "      <td>0.800049</td>\n",
       "      <td>t</td>\n",
       "      <td>q</td>\n",
       "      <td>s</td>\n",
       "      <td>mms</td>\n",
       "    </tr>\n",
       "    <tr>\n",
       "      <th>214836</th>\n",
       "      <td>0.742218</td>\n",
       "      <td>1.596935</td>\n",
       "      <td>-1.215536</td>\n",
       "      <td>-0.172111</td>\n",
       "      <td>-0.287314</td>\n",
       "      <td>-0.246627</td>\n",
       "      <td>-0.223739</td>\n",
       "      <td>t</td>\n",
       "      <td>n</td>\n",
       "      <td>s</td>\n",
       "      <td>mms</td>\n",
       "    </tr>\n",
       "    <tr>\n",
       "      <th>214837</th>\n",
       "      <td>0.370355</td>\n",
       "      <td>-0.959692</td>\n",
       "      <td>0.967693</td>\n",
       "      <td>1.191566</td>\n",
       "      <td>0.373583</td>\n",
       "      <td>0.416518</td>\n",
       "      <td>0.288155</td>\n",
       "      <td>t</td>\n",
       "      <td>q</td>\n",
       "      <td>s</td>\n",
       "      <td>mms</td>\n",
       "    </tr>\n",
       "    <tr>\n",
       "      <th>214838</th>\n",
       "      <td>-0.745233</td>\n",
       "      <td>-0.787798</td>\n",
       "      <td>-1.519270</td>\n",
       "      <td>-0.172111</td>\n",
       "      <td>0.241403</td>\n",
       "      <td>-0.688724</td>\n",
       "      <td>-0.223739</td>\n",
       "      <td>t</td>\n",
       "      <td>n</td>\n",
       "      <td>s</td>\n",
       "      <td>mms</td>\n",
       "    </tr>\n",
       "  </tbody>\n",
       "</table>\n",
       "<p>214839 rows × 11 columns</p>\n",
       "</div>"
      ],
      "text/plain": [
       "             Ng1       Ng2       Ng3       Nfl        Na        Pa        Ph  \\\n",
       "0       1.981761 -1.049271 -1.375597 -1.535787 -0.022956 -0.688724 -1.759421   \n",
       "1       0.370355 -0.703061  1.617499 -0.172111 -0.353404  1.079663  0.800049   \n",
       "2       0.370355  0.040201  0.217370 -0.172111 -0.287314  0.858615  0.288155   \n",
       "3      -1.241050 -0.117167 -1.681244 -0.172111  0.704031 -0.688724 -0.735633   \n",
       "4      -1.365005  1.664725 -0.642209  3.918920  0.175314 -0.688724  2.335731   \n",
       "...          ...       ...       ...       ...       ...       ...       ...   \n",
       "214834 -0.497325  0.744726  1.203415 -0.172111  0.175314 -0.688724 -0.735633   \n",
       "214835 -1.241050  1.296725 -0.350766  1.191566 -0.022956  0.195470  0.800049   \n",
       "214836  0.742218  1.596935 -1.215536 -0.172111 -0.287314 -0.246627 -0.223739   \n",
       "214837  0.370355 -0.959692  0.967693  1.191566  0.373583  0.416518  0.288155   \n",
       "214838 -0.745233 -0.787798 -1.519270 -0.172111  0.241403 -0.688724 -0.223739   \n",
       "\n",
       "       Cls Tr Pb  Css  \n",
       "0        t  n  s  mms  \n",
       "1        t  n  s  mms  \n",
       "2        o  q  s  mms  \n",
       "3        n  n  s  mms  \n",
       "4        t  n  o  mmb  \n",
       "...     .. .. ..  ...  \n",
       "214834   t  n  s  mms  \n",
       "214835   t  q  s  mms  \n",
       "214836   t  n  s  mms  \n",
       "214837   t  q  s  mms  \n",
       "214838   t  n  s  mms  \n",
       "\n",
       "[214839 rows x 11 columns]"
      ]
     },
     "execution_count": 5,
     "metadata": {},
     "output_type": "execute_result"
    }
   ],
   "source": [
    "from sklearn.preprocessing import StandardScaler\n",
    "scaler = StandardScaler()\n",
    "x[['Ng1','Ng2','Ng3','Nfl','Na','Pa','Ph']] = \\\n",
    "scaler.fit_transform(x[['Ng1','Ng2','Ng3','Nfl','Na','Pa','Ph']])\n",
    "x"
   ]
  },
  {
   "cell_type": "code",
   "execution_count": 6,
   "id": "4ab1caa1",
   "metadata": {},
   "outputs": [
    {
     "data": {
      "text/plain": [
       "0         1\n",
       "1         2\n",
       "2         2\n",
       "3         1\n",
       "4         1\n",
       "         ..\n",
       "214834    2\n",
       "214835    1\n",
       "214836    1\n",
       "214837    2\n",
       "214838    2\n",
       "Name: DG, Length: 214839, dtype: int64"
      ]
     },
     "execution_count": 6,
     "metadata": {},
     "output_type": "execute_result"
    }
   ],
   "source": [
    "y=data.loc[:, 'DG']\n",
    "y.astype('category')\n",
    "y"
   ]
  },
  {
   "cell_type": "code",
   "execution_count": 7,
   "id": "97cdaec1",
   "metadata": {},
   "outputs": [],
   "source": [
    "from sklearn.model_selection import train_test_split\n",
    "indices = range(len(y))\n",
    "\n",
    "x_train, x_test, y_train, y_test, indices_train,indices_test = \\\n",
    "train_test_split(x, y, indices, test_size=0.3,random_state=1)\n"
   ]
  },
  {
   "cell_type": "code",
   "execution_count": 8,
   "id": "2d22b190",
   "metadata": {},
   "outputs": [
    {
     "data": {
      "text/plain": [
       "1    0.608350\n",
       "2    0.274585\n",
       "0    0.117065\n",
       "Name: DG, dtype: float64"
      ]
     },
     "execution_count": 8,
     "metadata": {},
     "output_type": "execute_result"
    }
   ],
   "source": [
    "y_train.value_counts()/len(y_train)"
   ]
  },
  {
   "cell_type": "code",
   "execution_count": 9,
   "id": "d355a5e5",
   "metadata": {},
   "outputs": [
    {
     "data": {
      "text/plain": [
       "<catboost.core.CatBoostClassifier at 0x2470746e860>"
      ]
     },
     "execution_count": 9,
     "metadata": {},
     "output_type": "execute_result"
    }
   ],
   "source": [
    "from catboost import CatBoostClassifier\n",
    "category_features=['Tr','Cls','Pb', 'Css']\n",
    "model = CatBoostClassifier(cat_features = category_features,verbose=False)\n",
    "model.fit(x_train, y_train)"
   ]
  },
  {
   "cell_type": "code",
   "execution_count": 10,
   "id": "e60051f6",
   "metadata": {},
   "outputs": [
    {
     "data": {
      "text/plain": [
       "0.8493297337553528"
      ]
     },
     "execution_count": 10,
     "metadata": {},
     "output_type": "execute_result"
    }
   ],
   "source": [
    "from sklearn import metrics\n",
    "y_pred = model.predict(x_test)\n",
    "metrics.accuracy_score(y_test,y_pred)"
   ]
  },
  {
   "cell_type": "code",
   "execution_count": 11,
   "id": "3583c599",
   "metadata": {},
   "outputs": [
    {
     "data": {
      "text/plain": [
       "array([[ 3663,  3766,    90],\n",
       "       [ 1078, 36370,  1717],\n",
       "       [   29,  3031, 14708]], dtype=int64)"
      ]
     },
     "execution_count": 11,
     "metadata": {},
     "output_type": "execute_result"
    }
   ],
   "source": [
    "metrics.confusion_matrix(y_test, y_pred, labels=None, sample_weight=None)"
   ]
  },
  {
   "cell_type": "code",
   "execution_count": 12,
   "id": "d608ea96",
   "metadata": {},
   "outputs": [
    {
     "data": {
      "text/plain": [
       "0.8584784589093473"
      ]
     },
     "execution_count": 12,
     "metadata": {},
     "output_type": "execute_result"
    }
   ],
   "source": [
    "y_pred_t = model.predict(x_train)\n",
    "metrics.accuracy_score(y_train,y_pred_t)"
   ]
  },
  {
   "cell_type": "code",
   "execution_count": 13,
   "id": "b7abd6fa",
   "metadata": {},
   "outputs": [
    {
     "name": "stdout",
     "output_type": "stream",
     "text": [
      "Fitting 5 folds for each of 15 candidates, totalling 75 fits\n"
     ]
    },
    {
     "data": {
      "text/plain": [
       "{'depth': 8, 'learning_rate': 0.15}"
      ]
     },
     "execution_count": 13,
     "metadata": {},
     "output_type": "execute_result"
    }
   ],
   "source": [
    "from sklearn.model_selection import GridSearchCV\n",
    "from sklearn.metrics import make_scorer\n",
    "\n",
    "parameters = {'learning_rate': [0.05,0.08,0.1,0.12,0.15],\n",
    "             'depth':[6,7,8]\n",
    "             }  \n",
    "model = CatBoostClassifier(cat_features = category_features,iterations=1200,\n",
    "                           od_type='Iter',early_stopping_rounds=50,verbose=False)\n",
    "\n",
    "grid_search = GridSearchCV(model, parameters, scoring='accuracy', cv=5,n_jobs=-1,verbose=1)\n",
    "\n",
    "grid_search.fit(x_train, y_train)\n",
    "grid_search.best_params_"
   ]
  },
  {
   "cell_type": "code",
   "execution_count": 14,
   "id": "bcefac04",
   "metadata": {},
   "outputs": [
    {
     "data": {
      "text/plain": [
       "165.91021084785461"
      ]
     },
     "execution_count": 14,
     "metadata": {},
     "output_type": "execute_result"
    }
   ],
   "source": [
    "from catboost import CatBoostClassifier\n",
    "category_features=['Tr','Cls','Pb', 'Css']\n",
    "\n",
    "opt_model = CatBoostClassifier(depth=8, learning_rate=0.15,cat_features = category_features,iterations=1200,\n",
    "                           od_type='Iter',early_stopping_rounds=50,verbose=False)\n",
    "import time\n",
    "start_time = time.time()    \n",
    "\n",
    "opt_model.fit(x_train, y_train)\n",
    "\n",
    "end_time = time.time()\n",
    "run_time = end_time - start_time \n",
    "run_time"
   ]
  },
  {
   "attachments": {
    "image-2.png": {
     "image/png": "[encoded data removed]"
    }
   },
   "cell_type": "markdown",
   "id": "2effbe08",
   "metadata": {},
   "source": [
    "### t = 169.51\n",
    "![image-2.png](attachment:image-2.png)\n",
    "(The authors' note: There may be some differences in the time taken for each running. The above is the result when writing the paper.)"
   ]
  },
  {
   "cell_type": "code",
   "execution_count": 15,
   "id": "9ae5544f",
   "metadata": {},
   "outputs": [
    {
     "data": {
      "text/plain": [
       "0.873704462235462"
      ]
     },
     "execution_count": 15,
     "metadata": {},
     "output_type": "execute_result"
    }
   ],
   "source": [
    "y_pred = opt_model.predict(x_test)\n",
    "metrics.accuracy_score(y_test,y_pred)"
   ]
  },
  {
   "cell_type": "code",
   "execution_count": 16,
   "id": "48fa0fc8",
   "metadata": {},
   "outputs": [
    {
     "data": {
      "text/plain": [
       "0.873704462235462"
      ]
     },
     "execution_count": 16,
     "metadata": {},
     "output_type": "execute_result"
    }
   ],
   "source": [
    "metrics.f1_score(y_test, y_pred, labels=None,average='micro', sample_weight=None)"
   ]
  },
  {
   "cell_type": "code",
   "execution_count": 17,
   "id": "099d1b94",
   "metadata": {},
   "outputs": [
    {
     "data": {
      "text/plain": [
       "0.8104061230271937"
      ]
     },
     "execution_count": 17,
     "metadata": {},
     "output_type": "execute_result"
    }
   ],
   "source": [
    "metrics.f1_score(y_test, y_pred, labels=None,average='macro', sample_weight=None)"
   ]
  },
  {
   "cell_type": "code",
   "execution_count": 18,
   "id": "707aaf29",
   "metadata": {},
   "outputs": [
    {
     "data": {
      "text/plain": [
       "array([0.78488941, 0.86755826, 0.91585531])"
      ]
     },
     "execution_count": 18,
     "metadata": {},
     "output_type": "execute_result"
    }
   ],
   "source": [
    "metrics.precision_score(y_test, y_pred, labels=None, average=None)"
   ]
  },
  {
   "cell_type": "code",
   "execution_count": 19,
   "id": "69624cba",
   "metadata": {},
   "outputs": [
    {
     "data": {
      "text/plain": [
       "array([0.5333156 , 0.93912932, 0.8735367 ])"
      ]
     },
     "execution_count": 19,
     "metadata": {},
     "output_type": "execute_result"
    }
   ],
   "source": [
    "metrics.recall_score(y_test, y_pred, labels=None, average=None)"
   ]
  },
  {
   "cell_type": "code",
   "execution_count": 20,
   "id": "d4cd2044",
   "metadata": {},
   "outputs": [
    {
     "data": {
      "text/plain": [
       "array([[ 4010,  3410,    99],\n",
       "       [ 1057, 36781,  1327],\n",
       "       [   42,  2205, 15521]], dtype=int64)"
      ]
     },
     "execution_count": 20,
     "metadata": {},
     "output_type": "execute_result"
    }
   ],
   "source": [
    "metrics.confusion_matrix(y_test, y_pred, labels=None, sample_weight=None)"
   ]
  },
  {
   "cell_type": "code",
   "execution_count": 21,
   "id": "eb1dd8a1",
   "metadata": {},
   "outputs": [
    {
     "data": {
      "text/plain": [
       "0.9076648912472488"
      ]
     },
     "execution_count": 21,
     "metadata": {},
     "output_type": "execute_result"
    }
   ],
   "source": [
    "y_pred_t = opt_model.predict(x_train)\n",
    "metrics.accuracy_score(y_train,y_pred_t)"
   ]
  },
  {
   "cell_type": "code",
   "execution_count": 22,
   "id": "f0f26f9b",
   "metadata": {},
   "outputs": [
    {
     "data": {
      "text/plain": [
       "array([[11043,  6384,   178],\n",
       "       [ 1414, 87990,  2084],\n",
       "       [   41,  3785, 37468]], dtype=int64)"
      ]
     },
     "execution_count": 22,
     "metadata": {},
     "output_type": "execute_result"
    }
   ],
   "source": [
    "metrics.confusion_matrix(y_train, y_pred_t, labels=None, sample_weight=None)"
   ]
  }
 ],
 "metadata": {
  "kernelspec": {
   "display_name": "Python 3 (ipykernel)",
   "language": "python",
   "name": "python3"
  },
  "language_info": {
   "codemirror_mode": {
    "name": "ipython",
    "version": 3
   },
   "file_extension": ".py",
   "mimetype": "text/x-python",
   "name": "python",
   "nbconvert_exporter": "python",
   "pygments_lexer": "ipython3",
   "version": "3.10.4"
  }
 },
 "nbformat": 4,
 "nbformat_minor": 5
}
